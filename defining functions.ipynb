{
 "cells": [
  {
   "cell_type": "markdown",
   "metadata": {},
   "source": [
    "# Functions : Do you think you can flesh out your own function? I think you can! Let’s give it a go.\n",
    "\n",
    "Flesh out the body of the print_seconds function so that it prints the total amount of seconds given the hours, minutes, and seconds function parameters. Remember that there are 3600 seconds in an hour and 60 seconds in a minute.\n",
    "\n"
   ]
  },
  {
   "cell_type": "code",
   "execution_count": 3,
   "metadata": {},
   "outputs": [
    {
     "name": "stdout",
     "output_type": "stream",
     "text": [
      "3723\n"
     ]
    }
   ],
   "source": [
    "def print_seconds(hours, minutes, seconds):\n",
    "    print(hours*3600 + minutes*60 + seconds)\n",
    "print_seconds(1,2,3)"
   ]
  },
  {
   "cell_type": "markdown",
   "metadata": {},
   "source": [
    "# Return Function: Use the get_seconds function to work out the amount of seconds in 2 hours and 30 minutes, then add this number to the amount of seconds in 45 minutes and 15 seconds. Then print the result.\n",
    "\n"
   ]
  },
  {
   "cell_type": "code",
   "execution_count": 4,
   "metadata": {},
   "outputs": [
    {
     "name": "stdout",
     "output_type": "stream",
     "text": [
      "11715\n"
     ]
    }
   ],
   "source": [
    "def get_seconds(hours, minutes, seconds):\n",
    "  return 3600*hours + 60*minutes + seconds\n",
    "\n",
    "amount_a = get_seconds(2,30,0)\n",
    "amount_b = get_seconds(0,45,15)\n",
    "result = amount_a+amount_b\n",
    "print(result)"
   ]
  },
  {
   "cell_type": "code",
   "execution_count": 5,
   "metadata": {},
   "outputs": [
    {
     "name": "stdout",
     "output_type": "stream",
     "text": [
      "9000\n"
     ]
    }
   ],
   "source": [
    "def get_seconds(hours, minutes, seconds):\n",
    "  return 3600*hours + 60*minutes + seconds\n",
    "\n",
    "amount_a = get_seconds(2,30,0)\n",
    "\n",
    "result = amount_a+amount_b\n",
    "print(amount_a)"
   ]
  },
  {
   "cell_type": "markdown",
   "metadata": {},
   "source": [
    "# Ready to try it yourself? See if you can reduce the code duplication in this script.\n",
    "\n",
    "In this code, identify the repeated pattern and replace it with a function called print_monthly_expense, that receives the name of the month and the hours as parameters. Adapt the rest of the code so that the result is the same.\n"
   ]
  },
  {
   "cell_type": "code",
   "execution_count": 6,
   "metadata": {},
   "outputs": [
    {
     "name": "stdout",
     "output_type": "stream",
     "text": [
      "In June we spent: 157.95000000000002\n",
      "In July we spent: 211.25\n",
      "In August we spent: 193.70000000000002\n"
     ]
    }
   ],
   "source": [
    "#orignal\n",
    "june_hours = 243\n",
    "june_cost = june_hours * 0.65\n",
    "print(\"In June we spent: \" + str(june_cost))\n",
    "\n",
    "july_hours = 325\n",
    "july_cost = july_hours * 0.65\n",
    "print(\"In July we spent: \" + str(july_cost))\n",
    "\n",
    "august_hours = 298\n",
    "august_cost = august_hours * 0.65\n",
    "print(\"In August we spent: \" + str(august_cost))"
   ]
  },
  {
   "cell_type": "code",
   "execution_count": 7,
   "metadata": {},
   "outputs": [
    {
     "name": "stdout",
     "output_type": "stream",
     "text": [
      "In June We spent : 157.95000000000002\n",
      "In July We spent : 211.25\n",
      "In August We spent : 193.70000000000002\n"
     ]
    }
   ],
   "source": [
    "def print_monthly_expense(month, hours):\n",
    "    time = hours * 0.65\n",
    "    print(\"In \" + month + \" We spent : \" + str(time))\n",
    "\n",
    "print_monthly_expense(\"June\",243)\n",
    "print_monthly_expense(\"July\",325)\n",
    "print_monthly_expense(\"August\",298)"
   ]
  },
  {
   "cell_type": "markdown",
   "metadata": {},
   "source": [
    "This function to calculate the area of a rectangle is not very readable. Can you refactor it, and then call the function to calculate the area with base of 5 and height of 6? Tip: a function that calculates the area of a rectangle should probably be called rectangle_area, and if it's receiving base and height, that's what the parameters should be called.\n",
    "\n"
   ]
  },
  {
   "cell_type": "code",
   "execution_count": 17,
   "metadata": {},
   "outputs": [
    {
     "ename": "IndentationError",
     "evalue": "unindent does not match any outer indentation level (<tokenize>, line 4)",
     "output_type": "error",
     "traceback": [
      "\u001b[1;36m  File \u001b[1;32m\"<tokenize>\"\u001b[1;36m, line \u001b[1;32m4\u001b[0m\n\u001b[1;33m    f1(5, 6)\u001b[0m\n\u001b[1;37m    ^\u001b[0m\n\u001b[1;31mIndentationError\u001b[0m\u001b[1;31m:\u001b[0m unindent does not match any outer indentation level\n"
     ]
    }
   ],
   "source": [
    "def f1(x, y):\n",
    "\tz = x*y  # the area is base*height\n",
    "\tprint(\"The area is \" + str(z))\n",
    "    rectangle_area(5, 6)"
   ]
  },
  {
   "cell_type": "code",
   "execution_count": 20,
   "metadata": {},
   "outputs": [
    {
     "ename": "IndentationError",
     "evalue": "expected an indented block (<ipython-input-20-0148d532cfea>, line 2)",
     "output_type": "error",
     "traceback": [
      "\u001b[1;36m  File \u001b[1;32m\"<ipython-input-20-0148d532cfea>\"\u001b[1;36m, line \u001b[1;32m2\u001b[0m\n\u001b[1;33m    area = (base*height)# the area is base*height\u001b[0m\n\u001b[1;37m       ^\u001b[0m\n\u001b[1;31mIndentationError\u001b[0m\u001b[1;31m:\u001b[0m expected an indented block\n"
     ]
    }
   ],
   "source": [
    "def rectangle_area(base, height):\n",
    "area = (base*height)# the area is base*height\n",
    "print(\"The area is \"  + str(area))\n",
    "rectangle_area(5, 6)"
   ]
  },
  {
   "cell_type": "markdown",
   "metadata": {},
   "source": [
    "# This function converts miles to kilometers (km).\n",
    "\n",
    "Complete the function to return the result of the conversion\n",
    "Call the function to convert the trip distance from miles to kilometers\n",
    "Fill in the blank to print the result of the conversion\n",
    "Calculate the round-trip in kilometers by doubling the result, and fill in the blank to print the result"
   ]
  },
  {
   "cell_type": "code",
   "execution_count": 1,
   "metadata": {},
   "outputs": [
    {
     "name": "stdout",
     "output_type": "stream",
     "text": [
      "The distance in kilometers is 88.0\n",
      "The round-trip in kilometers is 176.0\n"
     ]
    }
   ],
   "source": [
    "# 1) Complete the function to return the result of the conversion\n",
    "def convert_distance(miles):\n",
    "\tkm = miles * 1.6  # approximately 1.6 km in 1 mile\n",
    "\treturn km\n",
    "\n",
    "my_trip_miles = 55\n",
    "\n",
    "# 2) Convert my_trip_miles to kilometers by calling the function above\n",
    "my_trip_km = convert_distance(55)\n",
    "\n",
    "\n",
    "# 3) Fill in the blank to print the result of the conversion\n",
    "print(\"The distance in kilometers is \" + str(my_trip_km))\n",
    "\n",
    "# 4) Calculate the round-trip in kilometers by doubling the result,\n",
    "#    and fill in the blank to print the result\n",
    "print(\"The round-trip in kilometers is \" + str(my_trip_km*2))"
   ]
  },
  {
   "cell_type": "code",
   "execution_count": 12,
   "metadata": {},
   "outputs": [
    {
     "name": "stdout",
     "output_type": "stream",
     "text": [
      "welcome, Mohsin\n",
      "You are part of IT Support\n",
      "welcome, Waleed\n",
      "You are part of Data Science\n"
     ]
    }
   ],
   "source": [
    "def greeting(name,department):\n",
    "    print(\"welcome, \" + name)\n",
    "    print(\"You are part of \" +department)\n",
    "\n",
    "greeting (\"Mohsin\" , \"IT Support\")\n",
    "\n",
    "greeting(\"Waleed\", \"Data Science\")"
   ]
  },
  {
   "cell_type": "markdown",
   "metadata": {},
   "source": [
    "# 2.Question 2\n",
    "This function compares two numbers and returns them in increasing order.\n",
    "\n",
    "Fill in the blanks, so the print statement displays the result of the function call in order."
   ]
  },
  {
   "cell_type": "code",
   "execution_count": null,
   "metadata": {},
   "outputs": [],
   "source": [
    "# This function compares two numbers and returns them\n",
    "# in increasing order.\n",
    "def order_numbers(number1, number2):\n",
    "\tif number2 > number1:\n",
    "\t\treturn number1, number2\n",
    "\telse:\n",
    "\t\treturn number2, number1\n",
    "\n",
    "# 1) Fill in the blanks so the print statement displays the result\n",
    "#    of the function call\n",
    "bigger, smaller = order_numbers(100, 99)\n",
    "print(bigger, smaller)"
   ]
  }
 ],
 "metadata": {
  "kernelspec": {
   "display_name": "Python 3",
   "language": "python",
   "name": "python3"
  },
  "language_info": {
   "codemirror_mode": {
    "name": "ipython",
    "version": 3
   },
   "file_extension": ".py",
   "mimetype": "text/x-python",
   "name": "python",
   "nbconvert_exporter": "python",
   "pygments_lexer": "ipython3",
   "version": "3.7.3"
  }
 },
 "nbformat": 4,
 "nbformat_minor": 4
}
